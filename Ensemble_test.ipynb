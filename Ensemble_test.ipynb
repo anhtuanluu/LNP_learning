{
 "cells": [
  {
   "cell_type": "markdown",
   "metadata": {
    "ExecuteTime": {
     "end_time": "2021-04-14T03:33:14.424156Z",
     "start_time": "2021-04-14T03:33:14.416179Z"
    }
   },
   "source": [
    "# install"
   ]
  },
  {
   "cell_type": "code",
   "execution_count": null,
   "metadata": {
    "ExecuteTime": {
     "end_time": "2021-04-14T02:32:06.207326Z",
     "start_time": "2021-04-14T02:32:06.084817Z"
    }
   },
   "outputs": [],
   "source": [
    "import numpy as np"
   ]
  },
  {
   "cell_type": "markdown",
   "metadata": {},
   "source": [
    "# test setup"
   ]
  },
  {
   "cell_type": "code",
   "execution_count": 2,
   "metadata": {
    "ExecuteTime": {
     "end_time": "2021-04-14T02:32:06.222819Z",
     "start_time": "2021-04-14T02:32:06.209334Z"
    }
   },
   "outputs": [],
   "source": [
    "_number_of_tests = int(1e3)\n",
    "_expected_accuracy = 0.51"
   ]
  },
  {
   "cell_type": "code",
   "execution_count": 3,
   "metadata": {
    "ExecuteTime": {
     "end_time": "2021-04-14T02:32:06.238371Z",
     "start_time": "2021-04-14T02:32:06.223806Z"
    }
   },
   "outputs": [],
   "source": [
    "# create a list of weak models\n",
    "def create_weak_model(number_of_model, expected_accuracy = _expected_accuracy, vari = 0):\n",
    "    return [expected_accuracy + np.random.uniform(-vari, vari) for _ in range(number_of_model)]# expected accracy + vari"
   ]
  },
  {
   "cell_type": "code",
   "execution_count": 4,
   "metadata": {
    "ExecuteTime": {
     "end_time": "2021-04-14T02:32:06.254278Z",
     "start_time": "2021-04-14T02:32:06.243308Z"
    }
   },
   "outputs": [],
   "source": [
    "'''\n",
    "Simple test: coin flipping.\n",
    "Using a biased coin (model accuracy), predicting head or tail.\n",
    "'''\n",
    "# predict\n",
    "def predict(weak_models): # toss coin\n",
    "    n = len(weak_models)\n",
    "    correct_prediction = 0.0\n",
    "    \n",
    "    for prob in weak_models: # predict with each model\n",
    "        x = np.random.rand()\n",
    "        \n",
    "        if prob >= x: # simulate predictio: accuracy threshold vs randomness\n",
    "            correct_prediction = correct_prediction + 1\n",
    "    \n",
    "    if correct_prediction/n >= 0.5: #major vote of head vs tail\n",
    "        return 1\n",
    "    return 0\n",
    "    "
   ]
  },
  {
   "cell_type": "code",
   "execution_count": 6,
   "metadata": {
    "ExecuteTime": {
     "end_time": "2021-04-14T02:32:06.286185Z",
     "start_time": "2021-04-14T02:32:06.271225Z"
    }
   },
   "outputs": [],
   "source": [
    "# running test: simulate the test for n times\n",
    "def run_test(weak_models):\n",
    "    accuracy = 0.0\n",
    "    for i in range(_number_of_tests):\n",
    "        accuracy = accuracy + predict(weak_models)\n",
    "    return accuracy/_number_of_tests"
   ]
  },
  {
   "cell_type": "code",
   "execution_count": 7,
   "metadata": {
    "ExecuteTime": {
     "end_time": "2021-04-14T02:32:06.952566Z",
     "start_time": "2021-04-14T02:32:06.292171Z"
    }
   },
   "outputs": [
    {
     "name": "stdout",
     "output_type": "stream",
     "text": [
      "Accuracy of one model: 0.524\n",
      "Accuracy of 10 models with 0.00 vari: 0.633\n",
      "Accuracy of 50 models with 0.00 vari: 0.609\n",
      "Accuracy of 100 models with 0.00 vari: 0.623\n",
      "Accuracy of 500 models with 0.00 vari: 0.683\n",
      "Accuracy of 1000 models with 0.00 vari: 0.769\n"
     ]
    }
   ],
   "source": [
    "# testing 1 and 2: one weak model vs set of weak models\n",
    "\n",
    "# model samples\n",
    "_model_sizes = [10, 50 , 100, 500, 1000]\n",
    "#_model_varis = [0, 0.05, 0.1, 0.02]\n",
    "_model_varis = [0]\n",
    "\n",
    "# result\n",
    "result = [[0 for i in range(len(_model_varis))] for j in range(len(_model_sizes))]\n",
    "\n",
    "print('Accuracy of one model:', run_test([_expected_accuracy]))\n",
    "for model_size in range(len(_model_sizes)):\n",
    "    for model_vari in range(len(_model_varis)):\n",
    "        #weak_models = create_weak_model(_model_sizes[model_size])\n",
    "        weak_models_with_vari = create_weak_model(_model_sizes[model_size], _expected_accuracy, _model_varis[model_vari])        \n",
    "        \n",
    "        #print('Accuracy of %i models:' % _model_sizes[model_size], run_test(weak_models))\n",
    "        result[model_size][model_vari] = run_test(weak_models_with_vari)\n",
    "        print('Accuracy of %i models with %.2f vari:' % (_model_sizes[model_size], _model_varis[model_vari]), result[model_size][model_vari])\n",
    "    \n"
   ]
  },
  {
   "cell_type": "code",
   "execution_count": 10,
   "metadata": {
    "ExecuteTime": {
     "end_time": "2021-04-14T02:34:08.008128Z",
     "start_time": "2021-04-14T02:34:07.972875Z"
    }
   },
   "outputs": [
    {
     "name": "stdout",
     "output_type": "stream",
     "text": [
      "Accuracy of one model: 0.749\n",
      "Accuracy of 10 models with +-0.00 vari: 0.982\n",
      "Accuracy of 10 models with +-0.05 vari: 0.972\n",
      "Accuracy of 10 models with +-0.10 vari: 0.985\n",
      "Accuracy of 10 models with +-0.20 vari: 0.998\n"
     ]
    }
   ],
   "source": [
    "# testing 3: set of coins with different biased\n",
    "expected_accuracy = 0.75\n",
    "\n",
    "# model samples\n",
    "_model_sizes = [10]\n",
    "_model_varis = [0, 0.05, 0.1, 0.2]\n",
    "#_model_varis = [0]\n",
    "\n",
    "# result\n",
    "result = [[0 for i in range(len(_model_varis))] for j in range(len(_model_sizes))]\n",
    "\n",
    "print('Accuracy of one model:', run_test([expected_accuracy]))\n",
    "for model_size in range(len(_model_sizes)):\n",
    "    for model_vari in range(len(_model_varis)):\n",
    "        weak_models_with_vari = create_weak_model(_model_sizes[model_size], expected_accuracy, _model_varis[model_vari])        \n",
    "        #print('Sample model: ', weak_models_with_vari)\n",
    "        result[model_size][model_vari] = run_test(weak_models_with_vari)\n",
    "        print('Accuracy of %i models with +-%.2f vari:' % (_model_sizes[model_size], _model_varis[model_vari]), result[model_size][model_vari])\n"
   ]
  }
 ],
 "metadata": {
  "kernelspec": {
   "display_name": "Python 3",
   "language": "python",
   "name": "python3"
  },
  "language_info": {
   "codemirror_mode": {
    "name": "ipython",
    "version": 3
   },
   "file_extension": ".py",
   "mimetype": "text/x-python",
   "name": "python",
   "nbconvert_exporter": "python",
   "pygments_lexer": "ipython3",
   "version": "3.8.2"
  },
  "toc": {
   "base_numbering": 1,
   "nav_menu": {},
   "number_sections": true,
   "sideBar": true,
   "skip_h1_title": false,
   "title_cell": "Table of Contents",
   "title_sidebar": "Contents",
   "toc_cell": false,
   "toc_position": {},
   "toc_section_display": true,
   "toc_window_display": false
  },
  "varInspector": {
   "cols": {
    "lenName": 16,
    "lenType": 16,
    "lenVar": 40
   },
   "kernels_config": {
    "python": {
     "delete_cmd_postfix": "",
     "delete_cmd_prefix": "del ",
     "library": "var_list.py",
     "varRefreshCmd": "print(var_dic_list())"
    },
    "r": {
     "delete_cmd_postfix": ") ",
     "delete_cmd_prefix": "rm(",
     "library": "var_list.r",
     "varRefreshCmd": "cat(var_dic_list()) "
    }
   },
   "types_to_exclude": [
    "module",
    "function",
    "builtin_function_or_method",
    "instance",
    "_Feature"
   ],
   "window_display": false
  }
 },
 "nbformat": 4,
 "nbformat_minor": 4
}
