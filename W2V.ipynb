{
 "cells": [
  {
   "cell_type": "code",
   "execution_count": 1,
   "metadata": {},
   "outputs": [],
   "source": [
    "import torch\n",
    "from utils import *\n",
    "import os\n",
    "import re\n",
    "import tarfile\n",
    "import time\n",
    "import zipfile\n",
    "import numpy as np\n",
    "from torch.utils import data"
   ]
  },
  {
   "cell_type": "code",
   "execution_count": 2,
   "metadata": {},
   "outputs": [],
   "source": [
    "# utils\n",
    "def extract(fname):  \n",
    "    base_dir = os.path.dirname(fname)\n",
    "    data_dir, ext = os.path.splitext(fname)\n",
    "    if ext == '.zip':\n",
    "        fp = zipfile.ZipFile(fname, 'r')\n",
    "    elif ext in ('.tar', '.gz'):\n",
    "        fp = tarfile.open(fname, 'r')\n",
    "    else:\n",
    "        assert False, 'Only zip/tar files can be extracted.'\n",
    "    fp.extractall(base_dir)\n",
    "    return base_dir\n",
    "\n",
    "class TokenEmbedding(data.Dataset):\n",
    "    \"\"\"Token Embedding.\"\"\"\n",
    "    def __init__(self, embedding_name):\n",
    "        self.idx_to_token, self.idx_to_vec = self._load_embedding(\n",
    "            embedding_name)\n",
    "        self.unknown_idx = 0\n",
    "        self.token_to_idx = {token: idx for idx, token in\n",
    "                             enumerate(self.idx_to_token)}\n",
    "\n",
    "    def _load_embedding(self, embedding_name):\n",
    "        idx_to_token, idx_to_vec = ['<unk>'], []\n",
    "        data_dir = extract(embedding_name)\n",
    "        with open(os.path.join(data_dir, 'word2vec_vi_syllables_100dims.txt'), 'r') as f:\n",
    "            for line in f:\n",
    "                elems = line.rstrip().split(' ')\n",
    "                token, elems = elems[0], [float(elem) for elem in elems[1:]]\n",
    "                if len(elems) > 1:\n",
    "                    idx_to_token.append(token)\n",
    "                    idx_to_vec.append(elems)\n",
    "        idx_to_vec = [[0] * len(idx_to_vec[0])] + idx_to_vec\n",
    "        return idx_to_token, np.array(idx_to_vec)\n",
    "\n",
    "    def __getitem__(self, tokens):\n",
    "        indices = [self.token_to_idx.get(token, self.unknown_idx)\n",
    "                   for token in tokens]\n",
    "        vecs = self.idx_to_vec[np.array(indices)]\n",
    "        return vecs\n",
    "\n",
    "    def __len__(self):\n",
    "        return len(self.idx_to_token)"
   ]
  },
  {
   "cell_type": "code",
   "execution_count": 3,
   "metadata": {},
   "outputs": [],
   "source": [
    "model_w2v = 'model/word2vec_vi_syllables_100dims.zip'\n",
    "vec = TokenEmbedding(model_w2v)"
   ]
  },
  {
   "cell_type": "code",
   "execution_count": 4,
   "metadata": {},
   "outputs": [
    {
     "output_type": "execute_result",
     "data": {
      "text/plain": "979461"
     },
     "metadata": {},
     "execution_count": 4
    }
   ],
   "source": [
    "vocab_size = len(vec)\n",
    "vocab_size"
   ]
  },
  {
   "cell_type": "code",
   "execution_count": 5,
   "metadata": {},
   "outputs": [
    {
     "output_type": "execute_result",
     "data": {
      "text/plain": "tensor([[ 0.0000,  0.0000,  0.0000,  ...,  0.0000,  0.0000,  0.0000],\n        [ 0.0090, -0.1823,  0.0022,  ..., -0.0641, -0.0212, -0.1909],\n        [ 0.0081, -0.1886,  0.0997,  ..., -0.0978, -0.0280, -0.1687],\n        ...,\n        [ 0.1463, -0.0747, -0.1573,  ...,  0.0366, -0.1794,  0.1295],\n        [ 0.1547, -0.0508, -0.0108,  ...,  0.0473, -0.2727,  0.2101],\n        [ 0.1907,  0.0742,  0.0737,  ...,  0.0943, -0.1364,  0.0139]])"
     },
     "metadata": {},
     "execution_count": 5
    }
   ],
   "source": [
    "import torch.nn as nn\n",
    "# model\n",
    "class RNN(nn.Module):\n",
    "    def __init__(self, vocab_size, embedding_size, hidden_size):\n",
    "        super(RNN, self).__init__()\n",
    "        self.embedding = nn.Embedding(vocab_size, embedding_size)\n",
    "        self.rnn = nn.LSTM(embedding_size, hidden_size, num_layers=2, bidirectional=False, batch_first=True)\n",
    "        self.classifier = nn.Linear(hidden_size, 3)\n",
    "    def forward(self, input):\n",
    "        x = self.embedding(input)\n",
    "        x, (hn, cn) = self.rnn(x) \n",
    "        # x là trạng thái ẩn for each t của lớp LSTM cuối cùng \n",
    "        # hn là trạng thái ẩn của last t từng lớp LSTM\n",
    "        # hn = [num layers * num directions, batch size ,hid dim]\n",
    "        # hn = [num layers * num directions, batch size ,hid dim]\n",
    "        x = hn[-1]\n",
    "        out = self.classifier(x)\n",
    "        return out\n",
    "myRNN = RNN(vocab_size, embedding_size=100, hidden_size=256)\n",
    "myRNN.embedding.weight.requires_grad = False\n",
    "myRNN.embedding.weight.data.copy_(torch.from_numpy(vec.idx_to_vec))"
   ]
  },
  {
   "cell_type": "code",
   "execution_count": 6,
   "metadata": {
    "tags": []
   },
   "outputs": [
    {
     "output_type": "execute_result",
     "data": {
      "text/plain": "tensor([[ 0.0438,  0.0081, -0.0181],\n        [ 0.0438,  0.0083, -0.0182]], grad_fn=<AddmmBackward>)"
     },
     "metadata": {},
     "execution_count": 6
    }
   ],
   "source": [
    "# check\n",
    "ine = torch.tensor([[1,2], [1,3]])\n",
    "out = myRNN(ine)\n",
    "out"
   ]
  }
 ],
 "metadata": {
  "language_info": {
   "codemirror_mode": {
    "name": "ipython",
    "version": 3
   },
   "file_extension": ".py",
   "mimetype": "text/x-python",
   "name": "python",
   "nbconvert_exporter": "python",
   "pygments_lexer": "ipython3",
   "version": 3
  },
  "orig_nbformat": 2,
  "kernelspec": {
   "name": "python_defaultSpec_1606452187442",
   "display_name": "Python 3.6.10 64-bit ('pytorch': conda)"
  }
 },
 "nbformat": 4,
 "nbformat_minor": 2
}